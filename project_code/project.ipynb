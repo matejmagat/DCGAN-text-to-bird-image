{
 "cells": [
  {
   "metadata": {
    "ExecuteTime": {
     "end_time": "2025-05-20T19:32:20.648432Z",
     "start_time": "2025-05-20T19:32:19.522052Z"
    }
   },
   "cell_type": "code",
   "source": [
    "import torch\n",
    "\n",
    "model_config = {\n",
    "    \"embedding_in\": 768,\n",
    "    \"embedding_out\": 128,\n",
    "    \"noise_size\": 100,\n",
    "    \"image_channels\": 3,\n",
    "    \"image_size\": 64,\n",
    "    \"ngf\": 64,\n",
    "    \"ndf\": 64,\n",
    "}\n",
    "\n",
    "train_config = {\n",
    "    \"image_root\":'/home/matej/Documents/DIPLOMSKI/2 SEMESTAR/SEMINAR/dataset/CUB/images',\n",
    "    \"embeddings_root\":'/home/matej/Documents/DIPLOMSKI/2 SEMESTAR/SEMINAR/dataset/CUB/embeddings',\n",
    "    \"data_split\": (0.7, 0.15, 0.15),\n",
    "    \"batch_size\" : 256,\n",
    "    \"start_lr\" : 0.0002,\n",
    "    \"patience\": 5,\n",
    "    \"factor\": 0.1,\n",
    "    \"num_epochs\" : 2500,\n",
    "    \"l1_coef\" : 50,\n",
    "    \"l2_coef\" : 100,\n",
    "    \"real_label\" : 1.,\n",
    "    \"fake_label\" : 0.,\n",
    "    \"seed\" : 75130,\n",
    "    \"device\": torch.device(\"cuda:0\" if torch.cuda.is_available() else \"cpu\"),\n",
    "}"
   ],
   "id": "20456c1a00908a9e",
   "outputs": [],
   "execution_count": 1
  },
  {
   "metadata": {
    "ExecuteTime": {
     "end_time": "2025-05-21T21:25:38.951388Z",
     "start_time": "2025-05-21T21:25:38.945968Z"
    }
   },
   "cell_type": "code",
   "source": [
    "from checkpoint import Checkpoint\n",
    "checkpoint = Checkpoint(\"../trained_models/train1-for-testing\", 1)\n",
    "# checkpoint.init_checkpoint(train_config, model_config)"
   ],
   "id": "c4ea304a29533699",
   "outputs": [],
   "execution_count": 8
  },
  {
   "metadata": {
    "ExecuteTime": {
     "end_time": "2025-05-21T21:25:40.415623Z",
     "start_time": "2025-05-21T21:25:40.180874Z"
    }
   },
   "cell_type": "code",
   "source": [
    "from train import TrainingManager\n",
    "tm = TrainingManager(checkpoint)"
   ],
   "id": "ffcbf26f677e10ad",
   "outputs": [
    {
     "name": "stdout",
     "output_type": "stream",
     "text": [
      "Checkpoint loaded from: ../trained_models/train1-for-testing.\n",
      "\tepoch: 740\n",
      "\tlr: {'discriminator': 0.0002, 'generator': 0.0002}\n"
     ]
    },
    {
     "name": "stderr",
     "output_type": "stream",
     "text": [
      "Loading train set: 200it [00:00, 10549.45it/s]\n"
     ]
    },
    {
     "name": "stdout",
     "output_type": "stream",
     "text": [
      "Using 9430 samples for train subset\n"
     ]
    },
    {
     "name": "stderr",
     "output_type": "stream",
     "text": [
      "Loading validation set: 200it [00:00, 8701.79it/s]\n"
     ]
    },
    {
     "name": "stdout",
     "output_type": "stream",
     "text": [
      "Using 0 samples for val subset\n"
     ]
    },
    {
     "name": "stderr",
     "output_type": "stream",
     "text": [
      "Loading test set: 200it [00:00, 9119.84it/s]"
     ]
    },
    {
     "name": "stdout",
     "output_type": "stream",
     "text": [
      "Using 2358 samples for test subset\n",
      "{'image_root': '/home/matej/Documents/DIPLOMSKI/2 SEMESTAR/SEMINAR/dataset/CUB/images', 'embeddings_root': '/home/matej/Documents/DIPLOMSKI/2 SEMESTAR/SEMINAR/dataset/CUB/embeddings', 'data_split': [0.8, 0.0, 0.2], 'batch_size': 256, 'start_lr': 0.0002, 'patience': 5, 'factor': 0.99, 'num_epochs': 2500, 'l1_coef': 50, 'l2_coef': 100, 'real_label': 1.0, 'fake_label': 0.0, 'seed': 1234, 'device': 'cpu'}\n"
     ]
    },
    {
     "name": "stderr",
     "output_type": "stream",
     "text": [
      "\n"
     ]
    }
   ],
   "execution_count": 9
  },
  {
   "metadata": {
    "ExecuteTime": {
     "end_time": "2025-05-21T21:26:15.803399Z",
     "start_time": "2025-05-21T21:25:42.266733Z"
    }
   },
   "cell_type": "code",
   "source": "tm.test()",
   "id": "dfd24438ebaf060",
   "outputs": [
    {
     "name": "stdout",
     "output_type": "stream",
     "text": [
      "Testing started on model trained for 740 epochs\n"
     ]
    },
    {
     "name": "stderr",
     "output_type": "stream",
     "text": [
      "Testing: 100%|██████████| 10/10 [00:33<00:00,  3.35s/it]"
     ]
    },
    {
     "name": "stdout",
     "output_type": "stream",
     "text": [
      "Discriminator test error: 1.78\n",
      "Generator test error: 12.86\n"
     ]
    },
    {
     "name": "stderr",
     "output_type": "stream",
     "text": [
      "\n"
     ]
    }
   ],
   "execution_count": 10
  },
  {
   "metadata": {
    "ExecuteTime": {
     "end_time": "2025-05-20T19:32:44.031508Z",
     "start_time": "2025-05-20T19:32:44.028439Z"
    }
   },
   "cell_type": "code",
   "source": "print(tm.losses)",
   "id": "cf96ecd7f2a58b75",
   "outputs": [
    {
     "name": "stdout",
     "output_type": "stream",
     "text": [
      "{'d_loss_train': [2.538642168045044, 3.4204702377319336, 3.442042827606201, 3.4962363243103027, 3.0407190322875977, 2.969792366027832, 3.0242016315460205, 3.0500574111938477, 2.738692283630371, 2.7763257026672363, 2.4993443489074707, 2.754554271697998, 2.58894419670105, 3.0901808738708496, 2.48762845993042, 2.2099556922912598, 2.0868782997131348, 2.322383403778076, 2.3259947299957275, 2.4188547134399414, 2.783569574356079, 2.3820111751556396, 2.4758315086364746, 2.43813419342041, 2.355041980743408, 2.340785026550293, 2.5792529582977295, 2.083756923675537, 2.3937056064605713, 2.435025215148926, 2.067680597305298, 1.9152722358703613, 2.057271718978882, 2.4420864582061768, 2.7371997833251953, 2.1071994304656982, 2.6833479404449463, 2.0359396934509277, 2.192873477935791, 2.532409906387329, 2.0916430950164795, 2.3145790100097656, 1.8273179531097412, 1.8605031967163086, 1.7926876544952393, 1.939502239227295, 1.9179420471191406, 1.7985323667526245, 2.0939574241638184, 2.482227087020874, 2.0335357189178467, 2.2527918815612793, 2.1350536346435547, 2.1246836185455322, 2.2098207473754883, 1.8682278394699097, 2.1287050247192383, 2.1091580390930176, 1.7225151062011719, 2.2610440254211426, 2.471057891845703, 1.921410083770752, 2.093615770339966, 1.9275147914886475, 2.0041496753692627, 2.0341267585754395], 'g_loss_train': [32.5015869140625, 28.681777954101562, 27.49149513244629, 27.572763442993164, 28.902267456054688, 28.58350944519043, 27.451663970947266, 28.592275619506836, 27.675769805908203, 29.63247299194336, 27.715877532958984, 30.515377044677734, 29.02576446533203, 30.340560913085938, 29.27722930908203, 30.87721824645996, 29.690385818481445, 29.805530548095703, 29.473424911499023, 30.00094223022461, 28.43025779724121, 28.50634765625, 26.832599639892578, 27.311237335205078, 25.929962158203125, 28.3592529296875, 26.524982452392578, 25.9075870513916, 26.491025924682617, 26.1270809173584, 25.363561630249023, 25.744033813476562, 25.916473388671875, 26.184955596923828, 23.772245407104492, 24.020008087158203, 24.72226905822754, 24.0668888092041, 24.624095916748047, 25.417755126953125, 22.972192764282227, 24.12261390686035, 24.24431610107422, 23.864055633544922, 22.970806121826172, 23.39704704284668, 23.680423736572266, 22.627920150756836, 25.378267288208008, 23.025787353515625, 22.262264251708984, 24.057842254638672, 22.2043514251709, 22.645092010498047, 23.834726333618164, 22.286142349243164, 22.889760971069336, 22.457271575927734, 21.656356811523438, 24.048974990844727, 22.734769821166992, 22.07146644592285, 23.163928985595703, 21.763652801513672, 22.13844108581543, 21.436328887939453], 'd_loss_val': [2.2207107543945312, 1.8433843851089478], 'g_loss_val': [22.586374282836914, 21.774852752685547]}\n"
     ]
    }
   ],
   "execution_count": 4
  }
 ],
 "metadata": {
  "kernelspec": {
   "display_name": "Python 3",
   "language": "python",
   "name": "python3"
  },
  "language_info": {
   "codemirror_mode": {
    "name": "ipython",
    "version": 2
   },
   "file_extension": ".py",
   "mimetype": "text/x-python",
   "name": "python",
   "nbconvert_exporter": "python",
   "pygments_lexer": "ipython2",
   "version": "2.7.6"
  }
 },
 "nbformat": 4,
 "nbformat_minor": 5
}
